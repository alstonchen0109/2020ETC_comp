{
 "cells": [
  {
   "cell_type": "code",
   "execution_count": 1,
   "metadata": {},
   "outputs": [],
   "source": [
    "import pymongo\n",
    "import dns\n",
    "import pandas as pd\n",
    "import io\n",
    "import datetime"
   ]
  },
  {
   "cell_type": "code",
   "execution_count": 2,
   "metadata": {},
   "outputs": [],
   "source": [
    "client = pymongo.MongoClient(\"mongodb://localhost:27017\")\n",
    "db = client.traffic\n",
    "INTER_TRAVEL_TIME_AVG=5 #average travelling time from gantryFrom to gantryTo in minute\n",
    "INTERCHAGE_TRAVELTO_GANTRY_TIME_AVG=3  #average travelling time from interchange to 1st gantryTo in minute"
   ]
  },
  {
   "cell_type": "code",
   "execution_count": 3,
   "metadata": {},
   "outputs": [],
   "source": [
    "def thruGantry(gantryID, begin, timeRange):\n",
    "    #begin=datetime.datetime.strptime(timeStamp, \"%Y/%m/%d %H:%M\") #\"%Y-%m-%d %H:%M\") # Time Format2019-06-24 06:40\n",
    "    end=begin+ datetime.timedelta(minutes = timeRange) #timeRange in minutes\n",
    "    coll = db['M03A']\n",
    "    match={\"GantryId\":gantryID, \"TimeInterval\": {\"$gte\": begin, \"$lt\": end}}\n",
    "    groupby = 'VehicleType'\n",
    "    group = {'_id': \"$%s\" % (groupby if groupby else None),\n",
    "             'total': {'$sum': '$交通量'}}   #將各車型分開加總\n",
    "    result = coll.aggregate([\n",
    "            { \"$match\": match },\n",
    "            { \"$group\": group}])\n",
    "    \n",
    "    df =  pd.DataFrame(list(result))\n",
    "    return df"
   ]
  },
  {
   "cell_type": "code",
   "execution_count": 4,
   "metadata": {},
   "outputs": [],
   "source": [
    "def offInterchange(gantryID, begin, timeRange):\n",
    "    #begin=datetime.datetime.strptime(timeStamp, \"%Y/%m/%d %H:%M\") #\"%Y-%m-%d %H:%M\") # Time Format2019-06-24 06:40\n",
    "    end=begin+ datetime.timedelta(minutes = timeRange) #timeRange in minutes\n",
    "    coll = db['M08A']\n",
    "    match={\"GantryTo\":gantryID, \"TimeInterval\": {\"$gte\": begin, \"$lt\": end}}\n",
    "    groupby = 'VehicleType'\n",
    "    group = {'_id': \"$%s\" % (groupby if groupby else None),\n",
    "             'total': {'$sum': '$交通量'}}\n",
    "    result = coll.aggregate([\n",
    "            { \"$match\": match },\n",
    "            { \"$group\": group}])\n",
    "    \n",
    "    df =  pd.DataFrame(list(result))\n",
    "    return df"
   ]
  },
  {
   "cell_type": "code",
   "execution_count": 5,
   "metadata": {},
   "outputs": [],
   "source": [
    "\n",
    "def intoInterchange(gantryFrom, gantryTo , timeStamp, timeRange):\n",
    "    \n",
    "    fromGntry=thruGantry(gantryFrom, timeStamp-datetime.timedelta(minutes =INTER_TRAVEL_TIME_AVG), timeRange)\n",
    "    fromGntry.total = fromGntry.total.apply(lambda x:-x) # to transfer add  to minus\n",
    "    #print('fromGntry',fromGntry)\n",
    "    toGntry=thruGantry(gantryTo , timeStamp, timeRange)\n",
    "    #print('toGntry', toGntry)\n",
    "    diff=toGntry.set_index('_id').add(fromGntry.set_index('_id'), fill_value=0).reset_index()\n",
    "    #print('diff',diff)\n",
    "    \n",
    "    offIntr=offInterchange(gantryFrom,timeStamp,timeRange)\n",
    "    #print('offIntr',offIntr)\n",
    "    result=diff.set_index('_id').add(offIntr.set_index('_id'), fill_value=0).reset_index()\n",
    "    result.sort_values('_id', inplace=True)\n",
    "    result.rename(columns={'_id':'VehicleType'}, inplace=True)\n",
    "    print(result)\n",
    "    return result"
   ]
  },
  {
   "cell_type": "code",
   "execution_count": 6,
   "metadata": {},
   "outputs": [],
   "source": [
    "\n",
    "def compareInDiff(timeStamp, timeRange):\n",
    "    begin=datetime.datetime.strptime(timeStamp, \"%Y/%m/%d %H:%M\") + datetime.timedelta(minutes =INTERCHAGE_TRAVELTO_GANTRY_TIME_AVG) #\"%Y-%m-%d %H:%M\")\n",
    "    print('\\n', 'After time,',timeStamp)\n",
    "    dfA=intoInterchange('01F2156N', '01F2089N' , begin, timeRange)\n",
    "    print('Before time',timeStamp)\n",
    "    delta=datetime.timedelta(minutes = timeRange)\n",
    "    dfB=intoInterchange('01F2156N', '01F2089N' , begin-delta, timeRange)\n",
    "    print('\\n\\n')"
   ]
  },
  {
   "cell_type": "code",
   "execution_count": 7,
   "metadata": {},
   "outputs": [
    {
     "name": "stdout",
     "output_type": "stream",
     "text": [
      "The CMS infoed: 204~198K壅塞車速40以下請改道 \n",
      "\n",
      "\n",
      " After time, 2019/04/05 13:21\n",
      "   VehicleType  total\n",
      "0            5   -1.0\n",
      "1           31  444.0\n",
      "2           32   83.0\n",
      "3           41    5.0\n",
      "4           42    8.0\n",
      "Before time 2019/04/05 13:21\n",
      "   VehicleType  total\n",
      "0            5   -2.0\n",
      "1           31  685.0\n",
      "2           32  202.0\n",
      "3           41    7.0\n",
      "4           42   18.0\n",
      "\n",
      "\n",
      "\n",
      "\n",
      " \n",
      " ---The time travel compared--- \n",
      "\n",
      "\n",
      " After time, 2019/04/04 13:21\n",
      "   VehicleType  total\n",
      "0            5      6\n",
      "1           31    577\n",
      "2           32    202\n",
      "3           41      0\n",
      "4           42     26\n",
      "Before time 2019/04/04 13:21\n",
      "   VehicleType  total\n",
      "0            5    9.0\n",
      "1           31  345.0\n",
      "2           32   84.0\n",
      "3           41    8.0\n",
      "4           42   14.0\n",
      "\n",
      "\n",
      "\n",
      "\n",
      " After time, 2019/04/06 13:23\n",
      "   VehicleType  total\n",
      "0            5      4\n",
      "1           31    688\n",
      "2           32    143\n",
      "3           41     20\n",
      "4           42     10\n",
      "Before time 2019/04/06 13:23\n",
      "   VehicleType  total\n",
      "0            5      9\n",
      "1           31    783\n",
      "2           32    196\n",
      "3           41     23\n",
      "4           42     14\n",
      "\n",
      "\n",
      "\n",
      "\n",
      " After time, 2019/04/07 13:21\n",
      "   VehicleType  total\n",
      "0            5     -1\n",
      "1           31    756\n",
      "2           32    166\n",
      "3           41     16\n",
      "4           42      9\n",
      "Before time 2019/04/07 13:21\n",
      "   VehicleType  total\n",
      "0            5   -1.0\n",
      "1           31  215.0\n",
      "2           32   36.0\n",
      "3           41    7.0\n",
      "4           42   10.0\n",
      "\n",
      "\n",
      "\n"
     ]
    }
   ],
   "source": [
    "print('The CMS infoed: 204~198K壅塞車速40以下請改道','\\n')\n",
    "compareInDiff(\"2019/04/05 13:21\",60) #2019-04-05T13:21\n",
    "#compareInDiff(\"2019/06/26 08:23\",60)\n",
    "\n",
    "print('\\n','\\n','---The time travel compared---','\\n')\n",
    "compareInDiff(\"2019/04/04 13:21\",60)\n",
    "compareInDiff(\"2019/04/06 13:23\",60)\n",
    "compareInDiff(\"2019/04/07 13:21\",60)\n"
   ]
  },
  {
   "cell_type": "code",
   "execution_count": null,
   "metadata": {},
   "outputs": [],
   "source": [
    "print('The CMS infoed: 204~198K壅塞車速40以下請改道','\\n')\n",
    "compareInDiff(\"2019/04/05 13:21\",60) #2019-04-05T13:21\n",
    "#compareInDiff(\"2019/06/26 08:23\",60)\n",
    "\n",
    "print('\\n','\\n','---The time travel compared---','\\n')\n",
    "compareInDiff(\"2019/04/04 13:21\",60)\n",
    "compareInDiff(\"2019/04/06 13:23\",60)\n",
    "compareInDiff(\"2019/04/07 13:21\",60)"
   ]
  },
  {
   "cell_type": "code",
   "execution_count": null,
   "metadata": {},
   "outputs": [],
   "source": []
  }
 ],
 "metadata": {
  "kernelspec": {
   "display_name": "Python 3",
   "language": "python",
   "name": "python3"
  },
  "language_info": {
   "codemirror_mode": {
    "name": "ipython",
    "version": 3
   },
   "file_extension": ".py",
   "mimetype": "text/x-python",
   "name": "python",
   "nbconvert_exporter": "python",
   "pygments_lexer": "ipython3",
   "version": "3.7.0"
  }
 },
 "nbformat": 4,
 "nbformat_minor": 4
}
