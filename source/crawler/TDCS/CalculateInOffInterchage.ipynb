{
 "cells": [
  {
   "cell_type": "code",
   "execution_count": 1,
   "metadata": {},
   "outputs": [],
   "source": [
    "import pymongo\n",
    "import dns\n",
    "import pandas as pd\n",
    "import io\n",
    "import datetime"
   ]
  },
  {
   "cell_type": "code",
   "execution_count": 2,
   "metadata": {},
   "outputs": [],
   "source": [
    "client = pymongo.MongoClient(\"mongodb://localhost:27017\")\n",
    "db = client.traffic"
   ]
  },
  {
   "cell_type": "code",
   "execution_count": 3,
   "metadata": {},
   "outputs": [],
   "source": [
    "def inputGantry(gantryID, begin, timeRange):\n",
    "    #begin=datetime.datetime.strptime(timeStamp, \"%Y/%m/%d %H:%M\") #\"%Y-%m-%d %H:%M\") # Time Format2019-06-24 06:40\n",
    "    end=begin+ datetime.timedelta(minutes = timeRange) #timeRange in minutes\n",
    "    coll = db['TDCS-M03A']\n",
    "    match={\"GantryId\":gantryID, \"TimeInterval\": {\"$gte\": begin, \"$lt\": end}}\n",
    "    groupby = 'VehicleType'\n",
    "    group = {'_id': \"$%s\" % (groupby if groupby else None),\n",
    "             'total': {'$sum': '$交通量'}}   #將各車型分開加總\n",
    "    result = coll.aggregate([\n",
    "            { \"$match\": match },\n",
    "            { \"$group\": group}])\n",
    "    \n",
    "    df =  pd.DataFrame(list(result))\n",
    "    return df"
   ]
  },
  {
   "cell_type": "code",
   "execution_count": 5,
   "metadata": {},
   "outputs": [],
   "source": [
    "def offInterchange(gantryID, begin, timeRange):\n",
    "    #begin=datetime.datetime.strptime(timeStamp, \"%Y/%m/%d %H:%M\") #\"%Y-%m-%d %H:%M\") # Time Format2019-06-24 06:40\n",
    "    end=begin+ datetime.timedelta(minutes = timeRange) #timeRange in minutes\n",
    "    coll = db['TDCS-M08A']\n",
    "    match={\"GantryTo\":gantryID, \"TimeInterval\": {\"$gte\": begin, \"$lt\": end}}\n",
    "    groupby = 'VehicleType'\n",
    "    group = {'_id': \"$%s\" % (groupby if groupby else None),\n",
    "             'total': {'$sum': '$交通量'}}\n",
    "    result = coll.aggregate([\n",
    "            { \"$match\": match },\n",
    "            { \"$group\": group}])\n",
    "    \n",
    "    df =  pd.DataFrame(list(result))\n",
    "    return df"
   ]
  },
  {
   "cell_type": "code",
   "execution_count": 6,
   "metadata": {},
   "outputs": [],
   "source": [
    "def goInterchange(gantryFrom, gantryTo , timeStamp, timeRange):\n",
    "    fromGntry=inputGantry(gantryFrom, timeStamp, timeRange)\n",
    "    fromGntry.total = fromGntry.total.apply(lambda x:-x) # to transfer add  to minus\n",
    "    #print('fromGntry',fromGntry)\n",
    "    toGntry=inputGantry(gantryTo , timeStamp, timeRange)\n",
    "    #print('toGntry', toGntry)\n",
    "    diff=toGntry.set_index('_id').add(fromGntry.set_index('_id'), fill_value=0).reset_index()\n",
    "    #print('diff',diff)\n",
    "    \n",
    "    offIntr=offInterchange(gantryFrom,timeStamp,timeRange)\n",
    "    #print('offIntr',offIntr)\n",
    "    result=diff.set_index('_id').add(offIntr.set_index('_id'), fill_value=0).reset_index()\n",
    "    result.sort_values('_id', inplace=True)\n",
    "    result.rename(columns={'_id':'VehicleType'}, inplace=True)\n",
    "    print(result)\n",
    "    return result"
   ]
  },
  {
   "cell_type": "code",
   "execution_count": 7,
   "metadata": {},
   "outputs": [],
   "source": [
    "def compareInDiff(timeStamp, timeRange):\n",
    "    begin=datetime.datetime.strptime(timeStamp, \"%Y/%m/%d %H:%M\") #\"%Y-%m-%d %H:%M\")\n",
    "    print(timeStamp, 'CMS After,')\n",
    "    dfA=goInterchange('01F2156N', '01F2089N' , begin, timeRange)\n",
    "    print('CMS Before')\n",
    "    delta=datetime.timedelta(minutes = timeRange)\n",
    "    dfB=goInterchange('01F2156N', '01F2089N' , begin-delta, timeRange)"
   ]
  },
  {
   "cell_type": "code",
   "execution_count": 8,
   "metadata": {},
   "outputs": [
    {
     "name": "stdout",
     "output_type": "stream",
     "text": [
      "The CMS infoed: 204~198K壅塞車速40以下請改道 \n",
      "\n",
      "2019/06/25 08:23 CMS After,\n",
      "   VehicleType  total\n",
      "0            5     11\n",
      "1           31    434\n",
      "2           32    245\n",
      "3           41      4\n",
      "4           42     59\n",
      "CMS Before\n",
      "   VehicleType  total\n",
      "0            5     32\n",
      "1           31    867\n",
      "2           32    323\n",
      "3           41      3\n",
      "4           42     52\n",
      "\n",
      " \n",
      " The CMS NO info \n",
      "\n",
      "2019/06/26 08:23 CMS After,\n",
      "   VehicleType  total\n",
      "0            5     21\n",
      "1           31    432\n",
      "2           32    229\n",
      "3           41      6\n",
      "4           42     71\n",
      "CMS Before\n",
      "   VehicleType  total\n",
      "0            5     23\n",
      "1           31    773\n",
      "2           32    274\n",
      "3           41     -5\n",
      "4           42     41\n",
      "2019/06/27 08:23 CMS After,\n",
      "   VehicleType  total\n",
      "0            5     29\n",
      "1           31    402\n",
      "2           32    217\n",
      "3           41      3\n",
      "4           42     60\n",
      "CMS Before\n",
      "   VehicleType  total\n",
      "0            5   20.0\n",
      "1           31  756.0\n",
      "2           32  261.0\n",
      "3           41    9.0\n",
      "4           42   51.0\n",
      "2019/06/28 08:23 CMS After,\n",
      "   VehicleType  total\n",
      "0            5   17.0\n",
      "1           31  433.0\n",
      "2           32  246.0\n",
      "3           41    2.0\n",
      "4           42   58.0\n",
      "CMS Before\n",
      "   VehicleType  total\n",
      "0            5     25\n",
      "1           31    774\n",
      "2           32    263\n",
      "3           41     12\n",
      "4           42     40\n",
      "2019/06/24 08:23 CMS After,\n",
      "   VehicleType  total\n",
      "0            5     24\n",
      "1           31    469\n",
      "2           32    215\n",
      "3           41      0\n",
      "4           42     45\n",
      "CMS Before\n",
      "   VehicleType  total\n",
      "0            5     28\n",
      "1           31    866\n",
      "2           32    215\n",
      "3           41     13\n",
      "4           42     31\n"
     ]
    }
   ],
   "source": [
    "print('The CMS infoed: 204~198K壅塞車速40以下請改道','\\n')\n",
    "compareInDiff(\"2019/06/25 08:23\",60)\n",
    "print('\\n','\\n','The CMS NO info','\\n')\n",
    "compareInDiff(\"2019/06/26 08:23\",60)\n",
    "compareInDiff(\"2019/06/27 08:23\",60)\n",
    "compareInDiff(\"2019/06/28 08:23\",60)\n",
    "compareInDiff(\"2019/06/24 08:23\",60)"
   ]
  },
  {
   "cell_type": "code",
   "execution_count": null,
   "metadata": {},
   "outputs": [],
   "source": []
  }
 ],
 "metadata": {
  "kernelspec": {
   "display_name": "Python 3",
   "language": "python",
   "name": "python3"
  },
  "language_info": {
   "codemirror_mode": {
    "name": "ipython",
    "version": 3
   },
   "file_extension": ".py",
   "mimetype": "text/x-python",
   "name": "python",
   "nbconvert_exporter": "python",
   "pygments_lexer": "ipython3",
   "version": "3.7.0"
  }
 },
 "nbformat": 4,
 "nbformat_minor": 4
}
