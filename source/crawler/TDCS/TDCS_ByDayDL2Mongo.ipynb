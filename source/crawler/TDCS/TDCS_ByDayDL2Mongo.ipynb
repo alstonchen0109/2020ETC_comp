{
 "cells": [
  {
   "cell_type": "code",
   "execution_count": 1,
   "metadata": {},
   "outputs": [],
   "source": [
    "import requests\n",
    "from pathlib import Path\n",
    "import os\n",
    "import tarfile\n",
    "import pandas as pd\n",
    "import io\n",
    "import datetime\n",
    "urlBase='http://tisvcloud.freeway.gov.tw/history/TDCS'\n",
    "baseDir='../../../data/'\n",
    "#確認該 url 是否可以下載, 例如 20190230 就不存在, 無法下載\n",
    "def isDownloadable(url):\n",
    "    \"\"\"\n",
    "    Does the url contain a downloadable resource\n",
    "    \"\"\"\n",
    "    h = requests.head(url, allow_redirects=True)\n",
    "    header = h.headers\n",
    "    content_type = header.get('content-type')\n",
    "    if content_type is None:\n",
    "        return False\n",
    "    if 'text' in content_type.lower():\n",
    "        return False\n",
    "    if 'html' in content_type.lower():\n",
    "        return False\n",
    "    return True"
   ]
  },
  {
   "cell_type": "code",
   "execution_count": 2,
   "metadata": {},
   "outputs": [],
   "source": [
    "#下載某url檔案後, 放在指定目錄下\n",
    "def downloadFileFromUrl(url, directory):\n",
    "    \n",
    "    filename = directory+'/'+ url.rsplit('/', 1)[1]\n",
    "    if not os.path.exists(filename):\n",
    "        r = requests.get(url, allow_redirects=True)\n",
    "        open(filename, 'wb').write(r.content)"
   ]
  },
  {
   "cell_type": "code",
   "execution_count": 3,
   "metadata": {},
   "outputs": [],
   "source": [
    "def downloadTDCSbyDay(trType, day, baseDir):\n",
    "    url=urlBase + '/' + trType + '/' + trType + '_' + day+'.tar.gz'  #day format '20190630'\n",
    "    \n",
    "    directory=baseDir+trType\n",
    "    Path(directory).mkdir(parents=True, exist_ok=True)\n",
    "    print(directory)\n",
    "    downloadFileFromUrl(url, directory)\n",
    "    \n",
    "    "
   ]
  },
  {
   "cell_type": "code",
   "execution_count": 5,
   "metadata": {},
   "outputs": [],
   "source": [
    "import pymongo\n",
    "import dns\n",
    "client = pymongo.MongoClient(\"mongodb://localhost:27017\")\n",
    "db = client.traffic\n",
    "\n",
    "def dataframe2Mongo(select_df, trfType):\n",
    "    collection = db[trfType]  \n",
    "    records = select_df.to_dict('records') # 參數 record 代表把列轉成個別物件\n",
    "    collection.insert_many(records)\n"
   ]
  },
  {
   "cell_type": "code",
   "execution_count": 6,
   "metadata": {},
   "outputs": [],
   "source": [
    "def insertMongo(trType, day, baseDir):\n",
    "    colNames={\n",
    "            'M03A': ['TimeInterval','GantryId', 'Direction', 'VehicleType', '交通量'],\n",
    "            'M04A': ['TimeInterval','GantryFrom','GantryTo', 'VehicleType', 'TravelTime', '交通量'],\n",
    "            'M06A': ['VehicleType','DetectionTime_O', 'GantryID_O', 'DetectionTime_D', 'GantryID_D', 'TripLength', 'TripEnd', 'TripInformation'],\n",
    "            'M08A': ['TimeInterval','GantryFrom','GantryTo', 'VehicleType', '交通量']\n",
    "        }\n",
    "    tarGzFile=baseDir+trType+'/'+ trType + '_' + day+'.tar.gz'\n",
    "    print(tarGzFile)\n",
    "    \n",
    "    result=pd.DataFrame()\n",
    "    tar = tarfile.open(tarGzFile, \"r:gz\")\n",
    "    for member in tar.getmembers():\n",
    "        f = tar.extractfile(member)\n",
    "\n",
    "        if f is not None:\n",
    "            content = f.read()\n",
    "            df = pd.read_csv(io.StringIO(content.decode('utf-8')), header=None, sep=',')\n",
    "            \n",
    "            result=result.append(df, ignore_index=True)\n",
    "    \n",
    "    result.columns = colNames[trType]\n",
    "    result.TimeInterval=result.TimeInterval.apply(lambda dt:datetime.datetime.strptime(dt, \"%Y-%m-%d %H:%M\"))\n",
    "    dataframe2Mongo(result,trType)\n",
    "    return result"
   ]
  },
  {
   "cell_type": "code",
   "execution_count": 7,
   "metadata": {},
   "outputs": [],
   "source": [
    "def downloadInsert(trType, day, baseDir):\n",
    "    downloadTDCSbyDay(trType, day, baseDir) #20190404-07\n",
    "    insertMongo(trType, day, baseDir)"
   ]
  },
  {
   "cell_type": "code",
   "execution_count": 10,
   "metadata": {},
   "outputs": [
    {
     "name": "stdout",
     "output_type": "stream",
     "text": [
      "../../../data/M03A\n",
      "../../../data/M03A/M03A_20190624.tar.gz\n",
      "../../../data/M03A\n",
      "../../../data/M03A/M03A_20190625.tar.gz\n",
      "../../../data/M03A\n",
      "../../../data/M03A/M03A_20190626.tar.gz\n",
      "../../../data/M03A\n",
      "../../../data/M03A/M03A_20190627.tar.gz\n",
      "../../../data/M03A\n",
      "../../../data/M03A/M03A_20190628.tar.gz\n",
      "../../../data/M08A\n",
      "../../../data/M08A/M08A_20190624.tar.gz\n",
      "../../../data/M08A\n",
      "../../../data/M08A/M08A_20190625.tar.gz\n",
      "../../../data/M08A\n",
      "../../../data/M08A/M08A_20190626.tar.gz\n",
      "../../../data/M08A\n",
      "../../../data/M08A/M08A_20190627.tar.gz\n",
      "../../../data/M08A\n",
      "../../../data/M08A/M08A_20190628.tar.gz\n"
     ]
    }
   ],
   "source": [
    "downloadInsert('M03A','20190624',baseDir)\n",
    "downloadInsert('M03A','20190625',baseDir)\n",
    "downloadInsert('M03A','20190626',baseDir)\n",
    "downloadInsert('M03A','20190627',baseDir)\n",
    "downloadInsert('M03A','20190628',baseDir)\n",
    "downloadInsert('M08A','20190624',baseDir)\n",
    "downloadInsert('M08A','20190625',baseDir)\n",
    "downloadInsert('M08A','20190626',baseDir)\n",
    "downloadInsert('M08A','20190627',baseDir)\n",
    "downloadInsert('M08A','20190628',baseDir)"
   ]
  },
  {
   "cell_type": "code",
   "execution_count": 9,
   "metadata": {},
   "outputs": [
    {
     "name": "stdout",
     "output_type": "stream",
     "text": [
      "../../../data/M03A\n",
      "../../../data/M03A/M03A_20190404.tar.gz\n",
      "../../../data/M03A\n",
      "../../../data/M03A/M03A_20190405.tar.gz\n",
      "../../../data/M03A\n",
      "../../../data/M03A/M03A_20190406.tar.gz\n",
      "../../../data/M03A\n",
      "../../../data/M03A/M03A_20190407.tar.gz\n",
      "../../../data/M08A\n",
      "../../../data/M08A/M08A_20190404.tar.gz\n",
      "../../../data/M08A\n",
      "../../../data/M08A/M08A_20190405.tar.gz\n",
      "../../../data/M08A\n",
      "../../../data/M08A/M08A_20190406.tar.gz\n",
      "../../../data/M08A\n",
      "../../../data/M08A/M08A_20190407.tar.gz\n"
     ]
    }
   ],
   "source": [
    "downloadInsert('M03A','20190404',baseDir)\n",
    "downloadInsert('M03A','20190405',baseDir)\n",
    "downloadInsert('M03A','20190406',baseDir)\n",
    "downloadInsert('M03A','20190407',baseDir)\n",
    "downloadInsert('M08A','20190404',baseDir)\n",
    "downloadInsert('M08A','20190405',baseDir)\n",
    "downloadInsert('M08A','20190406',baseDir)\n",
    "downloadInsert('M08A','20190407',baseDir)"
   ]
  },
  {
   "cell_type": "code",
   "execution_count": null,
   "metadata": {},
   "outputs": [],
   "source": []
  }
 ],
 "metadata": {
  "kernelspec": {
   "display_name": "Python 3",
   "language": "python",
   "name": "python3"
  },
  "language_info": {
   "codemirror_mode": {
    "name": "ipython",
    "version": 3
   },
   "file_extension": ".py",
   "mimetype": "text/x-python",
   "name": "python",
   "nbconvert_exporter": "python",
   "pygments_lexer": "ipython3",
   "version": "3.7.0"
  }
 },
 "nbformat": 4,
 "nbformat_minor": 4
}
